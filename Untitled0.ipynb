{
  "nbformat": 4,
  "nbformat_minor": 0,
  "metadata": {
    "colab": {
      "provenance": [],
      "collapsed_sections": [],
      "toc_visible": true,
      "private_outputs": true
    },
    "kernelspec": {
      "name": "python3",
      "display_name": "Python 3"
    },
    "language_info": {
      "name": "python"
    },
    "accelerator": "GPU"
  },
  "cells": [
    {
      "cell_type": "code",
      "execution_count": null,
      "metadata": {
        "id": "5gh66lyeGVIF"
      },
      "outputs": [],
      "source": [
        "import tensorflow as tf\n",
        "print('tf version:', tf.__version__)\n",
        "print('gpu:', tf.config.list_physical_devices('GPU'))"
      ]
    },
    {
      "cell_type": "code",
      "source": [
        "import cv2\n",
        "IMG_DIMEN = 224  \n",
        "N_COLORS = 3"
      ],
      "metadata": {
        "id": "BfeEng96HWMn"
      },
      "execution_count": null,
      "outputs": []
    },
    {
      "cell_type": "code",
      "source": [
        "from tqdm import tqdm\n",
        "import numpy as np\n",
        "import os\n",
        "\n",
        "def read_data(dir_path):\n",
        "    X = []\n",
        "    y = []\n",
        "    y_map = {'benign': 0, 'malignant': 1}\n",
        "    for class_name in y_map.keys():\n",
        "        subdir_path = os.path.join(dir_path, class_name)\n",
        "        filenames = os.listdir(subdir_path)\n",
        "        for fname in tqdm(filenames):\n",
        "            if fname.endswith('.jpg'):\n",
        "                img_path = os.path.join(subdir_path, fname)\n",
        "                img = cv2.imread(img_path)\n",
        "                img = cv2.resize(img, dsize=(IMG_DIMEN, IMG_DIMEN))\n",
        "                img = cv2.cvtColor(img, cv2.COLOR_BGR2RGB)\n",
        "                img = img.reshape((1, IMG_DIMEN, IMG_DIMEN, N_COLORS))\n",
        "                X.append(img)\n",
        "                y.append(y_map[class_name])\n",
        "    X = np.vstack(X).astype('float32')/255.0\n",
        "    y = np.array(y).astype('int32')\n",
        "    return X, y"
      ],
      "metadata": {
        "id": "_R6dyGjPGkNr"
      },
      "execution_count": null,
      "outputs": []
    },
    {
      "cell_type": "code",
      "source": [
        "from google.colab import drive\n",
        "drive.mount('/content/drive')"
      ],
      "metadata": {
        "id": "ug6UigScG_qc"
      },
      "execution_count": null,
      "outputs": []
    },
    {
      "cell_type": "code",
      "source": [
        "X, y = read_data('/content/drive/MyDrive/data/train')"
      ],
      "metadata": {
        "id": "BgK349Xgdcpz"
      },
      "execution_count": null,
      "outputs": []
    },
    {
      "cell_type": "code",
      "source": [
        "print(X.shape)\n",
        "print(y.shape)"
      ],
      "metadata": {
        "id": "isp_Yv2YNYU7"
      },
      "execution_count": null,
      "outputs": []
    },
    {
      "cell_type": "code",
      "source": [
        "X_test, y_test = read_data('/content/drive/MyDrive/data/test')"
      ],
      "metadata": {
        "id": "ZBpRjaiGNa2w"
      },
      "execution_count": null,
      "outputs": []
    },
    {
      "cell_type": "code",
      "source": [
        "print(X_test.shape)\n",
        "print(y_test.shape)"
      ],
      "metadata": {
        "id": "jR9SNXs7NjVS"
      },
      "execution_count": null,
      "outputs": []
    },
    {
      "cell_type": "code",
      "source": [
        "from sklearn.model_selection import train_test_split\n",
        "\n",
        "X_train, X_val, y_train, y_val = train_test_split(X, y, test_size=0.33, random_state=0)"
      ],
      "metadata": {
        "id": "ilVgr-Z1NnRo"
      },
      "execution_count": null,
      "outputs": []
    },
    {
      "cell_type": "code",
      "source": [
        "print(X_train.shape)\n",
        "print(y_train.shape)\n",
        "print('--------------')\n",
        "print(X_val.shape)\n",
        "print(y_val.shape)"
      ],
      "metadata": {
        "id": "v-91MBwwNqrg"
      },
      "execution_count": null,
      "outputs": []
    },
    {
      "cell_type": "code",
      "source": [
        "import matplotlib.pyplot as plt\n",
        "%matplotlib inline\n",
        "\n",
        "def imshow(img):\n",
        "    plt.figure(figsize=(6, 6))\n",
        "    if N_COLORS == 3:\n",
        "        plt.imshow(img)\n",
        "    elif N_COLORS == 1:\n",
        "         plt.imshow(img, cmap='gray')\n",
        "    plt.show()"
      ],
      "metadata": {
        "id": "D0CeevqwNr7f"
      },
      "execution_count": null,
      "outputs": []
    },
    {
      "cell_type": "code",
      "source": [
        "imshow(X_train[3])"
      ],
      "metadata": {
        "id": "W3lvcL-zNzTq"
      },
      "execution_count": null,
      "outputs": []
    },
    {
      "cell_type": "code",
      "source": [
        "from tensorflow.keras.models import Sequential\n",
        "from tensorflow.keras.applications.mobilenet import MobileNet\n",
        "from tensorflow.keras.layers import Dense"
      ],
      "metadata": {
        "id": "2osPu0epN10q"
      },
      "execution_count": null,
      "outputs": []
    },
    {
      "cell_type": "code",
      "source": [
        "pretrained_model = MobileNet(\n",
        "    include_top=False,\n",
        "    input_shape=(IMG_DIMEN, IMG_DIMEN, N_COLORS), \n",
        "    pooling='avg', \n",
        ")\n",
        "\n",
        "pretrained_model.trainable = False\n",
        "\n",
        "\n",
        "model = Sequential()\n",
        "model.add(pretrained_model)\n",
        "model.add(Dense(1, activation='sigmoid'))\n",
        "model.compile(loss='binary_crossentropy', optimizer='adam', metrics=['accuracy'])"
      ],
      "metadata": {
        "id": "DJdJrCSxN5co"
      },
      "execution_count": null,
      "outputs": []
    },
    {
      "cell_type": "code",
      "source": [
        "model.summary()"
      ],
      "metadata": {
        "id": "cCYwGBIBJTQD"
      },
      "execution_count": null,
      "outputs": []
    },
    {
      "cell_type": "code",
      "source": [
        "from tensorflow.keras.callbacks import ModelCheckpoint\n",
        "\n",
        "checkpoint = ModelCheckpoint(\n",
        "    'saved-model-mobilenet/best-model', monitor='val_loss', mode='min', \n",
        "    save_weights_only=True, save_best_only=True, verbose=1\n",
        ")\n",
        "\n",
        "history = model.fit(\n",
        "    X_train, y_train,\n",
        "    validation_data=(X_val, y_val),\n",
        "    batch_size=32,\n",
        "    epochs=20,\n",
        "    callbacks=[checkpoint]\n",
        ")"
      ],
      "metadata": {
        "id": "uCVHDRpbN_95"
      },
      "execution_count": null,
      "outputs": []
    },
    {
      "cell_type": "code",
      "source": [
        "import numpy as np\n",
        "import pandas as pd\n",
        "import matplotlib.pyplot as plt\n",
        "%matplotlib inline\n",
        "\n",
        "hist_df = pd.DataFrame(history.history)\n",
        "hist_df.plot(y=['loss', 'val_loss'], figsize=(12, 8))\n",
        "plt.xlabel('epoch')\n",
        "plt.ylabel('loss')\n",
        "plt.title('Training and Validation loss')\n",
        "plt.grid(axis='both')\n",
        "plt.xticks(np.arange(0, 21, 1))\n",
        "plt.show()"
      ],
      "metadata": {
        "id": "jPbYnI4cOGES"
      },
      "execution_count": null,
      "outputs": []
    },
    {
      "cell_type": "code",
      "source": [
        "hist_df = pd.DataFrame(history.history)\n",
        "hist_df.plot(y=['accuracy', 'val_accuracy'], figsize=(12, 8))\n",
        "plt.xlabel('epoch')\n",
        "plt.ylabel('accuracy')\n",
        "plt.title('Training and Validation Accuracy')\n",
        "plt.grid(axis='both')\n",
        "plt.xticks(np.arange(0, 20, 1))\n",
        "plt.yticks(np.arange(0.5, 1.01, 0.05))\n",
        "plt.show()"
      ],
      "metadata": {
        "id": "qcQi86LHOKLo"
      },
      "execution_count": null,
      "outputs": []
    },
    {
      "cell_type": "code",
      "source": [
        "model.load_weights('saved-model-mobilenet/best-model')\n",
        "model.evaluate(X_test, y_test)"
      ],
      "metadata": {
        "id": "9DuMYbaNOOMY"
      },
      "execution_count": null,
      "outputs": []
    }
  ]
}